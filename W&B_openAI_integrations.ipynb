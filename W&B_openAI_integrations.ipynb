{
 "cells": [
  {
   "cell_type": "code",
   "execution_count": 1,
   "id": "51c7267f-056a-4e2c-81fa-949fadafe336",
   "metadata": {},
   "outputs": [
    {
     "name": "stdout",
     "output_type": "stream",
     "text": [
      "Note: you may need to restart the kernel to use updated packages.\n"
     ]
    }
   ],
   "source": [
    "%pip install --upgrade openai==0.27.2 tiktoken wandb -qq"
   ]
  },
  {
   "cell_type": "code",
   "execution_count": 3,
   "id": "ca022dcc-17b9-46b7-949e-7abb74d53ade",
   "metadata": {},
   "outputs": [],
   "source": [
    "import os\n",
    "import openai\n",
    "import tiktoken\n",
    "import wandb\n",
    "from pprint import pprint\n",
    "from getpass import getpass\n",
    "from wandb.integration.openai import autolog"
   ]
  },
  {
   "cell_type": "code",
   "execution_count": 12,
   "id": "fbf5a55d-f2ee-466b-95bd-e2a79be9f76c",
   "metadata": {},
   "outputs": [],
   "source": [
    "OPENAI_API_KEY = ''\n",
    "openai.api_key = ''"
   ]
  },
  {
   "cell_type": "code",
   "execution_count": 5,
   "id": "fc96b0c2-c6e3-402a-a109-294f4e16dde9",
   "metadata": {},
   "outputs": [
    {
     "name": "stderr",
     "output_type": "stream",
     "text": [
      "\u001b[34m\u001b[1mwandb\u001b[0m: Logging into wandb.ai. (Learn how to deploy a W&B server locally: https://wandb.me/wandb-server)\n",
      "\u001b[34m\u001b[1mwandb\u001b[0m: You can find your API key in your browser here: https://wandb.ai/authorize\n",
      "\u001b[34m\u001b[1mwandb\u001b[0m: Paste an API key from your profile and hit enter, or press ctrl+c to quit:"
     ]
    },
    {
     "name": "stdin",
     "output_type": "stream",
     "text": [
      "  ········\n"
     ]
    },
    {
     "name": "stderr",
     "output_type": "stream",
     "text": [
      "\u001b[34m\u001b[1mwandb\u001b[0m: Appending key for api.wandb.ai to your netrc file: /Users/root-user/.netrc\n"
     ]
    },
    {
     "data": {
      "text/html": [
       "Tracking run with wandb version 0.16.2"
      ],
      "text/plain": [
       "<IPython.core.display.HTML object>"
      ]
     },
     "metadata": {},
     "output_type": "display_data"
    },
    {
     "data": {
      "text/html": [
       "Run data is saved locally in <code>/Users/root-user/python_projects/WSFlask/wandb/run-20240114_213213-tiejwotc</code>"
      ],
      "text/plain": [
       "<IPython.core.display.HTML object>"
      ]
     },
     "metadata": {},
     "output_type": "display_data"
    },
    {
     "data": {
      "text/html": [
       "Syncing run <strong><a href='https://wandb.ai/rarjunsekhar/LLMperform/runs/tiejwotc' target=\"_blank\">drawn-waterfall-1</a></strong> to <a href='https://wandb.ai/rarjunsekhar/LLMperform' target=\"_blank\">Weights & Biases</a> (<a href='https://wandb.me/run' target=\"_blank\">docs</a>)<br/>"
      ],
      "text/plain": [
       "<IPython.core.display.HTML object>"
      ]
     },
     "metadata": {},
     "output_type": "display_data"
    },
    {
     "data": {
      "text/html": [
       " View project at <a href='https://wandb.ai/rarjunsekhar/LLMperform' target=\"_blank\">https://wandb.ai/rarjunsekhar/LLMperform</a>"
      ],
      "text/plain": [
       "<IPython.core.display.HTML object>"
      ]
     },
     "metadata": {},
     "output_type": "display_data"
    },
    {
     "data": {
      "text/html": [
       " View run at <a href='https://wandb.ai/rarjunsekhar/LLMperform/runs/tiejwotc' target=\"_blank\">https://wandb.ai/rarjunsekhar/LLMperform/runs/tiejwotc</a>"
      ],
      "text/plain": [
       "<IPython.core.display.HTML object>"
      ]
     },
     "metadata": {},
     "output_type": "display_data"
    }
   ],
   "source": [
    "autolog({\"project\":\"LLMperform\", \"job_type\": \"introduction\"})"
   ]
  },
  {
   "cell_type": "code",
   "execution_count": 6,
   "id": "574bdbc3-3c24-4f4e-9868-cb808d4ecd0c",
   "metadata": {},
   "outputs": [
    {
     "name": "stdout",
     "output_type": "stream",
     "text": [
      "[8206, 5270, 5050, 973, 1262, 27140, 10128]\n",
      "Text generation methods used using LLMs\n"
     ]
    }
   ],
   "source": [
    "encoding = tiktoken.encoding_for_model(\"text-davinci-003\")\n",
    "enc = encoding.encode(\"Text generation methods used using LLMs\")\n",
    "print(enc)\n",
    "print(encoding.decode(enc))"
   ]
  },
  {
   "cell_type": "code",
   "execution_count": 7,
   "id": "c89f91ba-5013-44d9-8fe6-e008bdd59882",
   "metadata": {},
   "outputs": [
    {
     "name": "stdout",
     "output_type": "stream",
     "text": [
      "8206\tText\n",
      "5270\t generation\n",
      "5050\t methods\n",
      "973\t used\n",
      "1262\t using\n",
      "27140\t LL\n",
      "10128\tMs\n"
     ]
    }
   ],
   "source": [
    "for token_id in enc:\n",
    "    print(f\"{token_id}\\t{encoding.decode([token_id])}\")"
   ]
  },
  {
   "cell_type": "code",
   "execution_count": 26,
   "id": "3f8aada0-9b6d-4634-93a1-8357ae0584be",
   "metadata": {},
   "outputs": [],
   "source": [
    "def generate_with_temperature(temp):\n",
    "  \"Generate text with a given temperature, higher temperature means more randomness\"\n",
    "  response = openai.Completion.create(\n",
    "    model=\"gpt-3.5-turbo\",\n",
    "    prompt=\"Text generation methods used using LLMs\",\n",
    "    max_tokens=50,\n",
    "    temperature=temp,\n",
    "  )\n",
    "  return response.choices[0].text"
   ]
  },
  {
   "cell_type": "code",
   "execution_count": null,
   "id": "c2b94828-e6b4-471d-b892-66b3d03e9cb3",
   "metadata": {},
   "outputs": [],
   "source": [
    "print(generate_with_temperature(1))"
   ]
  },
  {
   "cell_type": "code",
   "execution_count": 29,
   "id": "ac65d348-3196-4e6a-bd0d-eb5be8cd8217",
   "metadata": {},
   "outputs": [
    {
     "data": {
      "text/html": [
       " View run <strong style=\"color:#cdcd00\">drawn-waterfall-1</strong> at: <a href='https://wandb.ai/rarjunsekhar/LLMperform/runs/tiejwotc' target=\"_blank\">https://wandb.ai/rarjunsekhar/LLMperform/runs/tiejwotc</a><br/> View job at <a href='https://wandb.ai/rarjunsekhar/LLMperform/jobs/QXJ0aWZhY3RDb2xsZWN0aW9uOjEzMDIzMTk0Mg==/version_details/v0' target=\"_blank\">https://wandb.ai/rarjunsekhar/LLMperform/jobs/QXJ0aWZhY3RDb2xsZWN0aW9uOjEzMDIzMTk0Mg==/version_details/v0</a><br/>Synced 5 W&B file(s), 0 media file(s), 2 artifact file(s) and 0 other file(s)"
      ],
      "text/plain": [
       "<IPython.core.display.HTML object>"
      ]
     },
     "metadata": {},
     "output_type": "display_data"
    },
    {
     "data": {
      "text/html": [
       "Find logs at: <code>./wandb/run-20240114_213213-tiejwotc/logs</code>"
      ],
      "text/plain": [
       "<IPython.core.display.HTML object>"
      ]
     },
     "metadata": {},
     "output_type": "display_data"
    }
   ],
   "source": [
    "wandb.finish()"
   ]
  },
  {
   "cell_type": "code",
   "execution_count": null,
   "id": "596d8a86-9387-4b7d-ab63-226b920f1a6e",
   "metadata": {},
   "outputs": [],
   "source": []
  }
 ],
 "metadata": {
  "kernelspec": {
   "display_name": "Python 3 (ipykernel)",
   "language": "python",
   "name": "python3"
  },
  "language_info": {
   "codemirror_mode": {
    "name": "ipython",
    "version": 3
   },
   "file_extension": ".py",
   "mimetype": "text/x-python",
   "name": "python",
   "nbconvert_exporter": "python",
   "pygments_lexer": "ipython3",
   "version": "3.11.5"
  }
 },
 "nbformat": 4,
 "nbformat_minor": 5
}
